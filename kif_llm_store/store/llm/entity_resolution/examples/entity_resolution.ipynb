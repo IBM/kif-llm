{
 "cells": [
  {
   "cell_type": "code",
   "execution_count": 1,
   "metadata": {},
   "outputs": [],
   "source": [
    "from kif_lib import *\n",
    "from kif_llm_store.store.llm.entity_resolution.disambiguators import Disambiguator, LLM_Disambiguator, NaiveDisambiguator\n",
    "from kif_llm_store.store.llm.entity_resolution.entity_sources import (\n",
    "    EntitySource,\n",
    "    WikidataEntitySource,\n",
    ")\n",
    "# import logging\n",
    "# logging.basicConfig(level=logging.DEBUG)"
   ]
  },
  {
   "cell_type": "markdown",
   "metadata": {},
   "source": [
    "### Labels to resolve to a Wikidata Entity"
   ]
  },
  {
   "cell_type": "code",
   "execution_count": 2,
   "metadata": {},
   "outputs": [],
   "source": [
    "labels = ['Rock']"
   ]
  },
  {
   "cell_type": "code",
   "execution_count": 3,
   "metadata": {},
   "outputs": [],
   "source": [
    "wikidata_source = EntitySource('wikidata')\n",
    "dbpedia_source = EntitySource('dbpedia')"
   ]
  },
  {
   "cell_type": "markdown",
   "metadata": {},
   "source": [
    "##### Initialize a Naive Disambiguator (Always get the top entity from the Knowledge Source)"
   ]
  },
  {
   "cell_type": "code",
   "execution_count": 4,
   "metadata": {},
   "outputs": [],
   "source": [
    "wikidata_disambiguator = Disambiguator(disambiguator_name='naive', source=wikidata_source)\n",
    "dbpedia_disambiguator = Disambiguator(disambiguator_name='naive', source=dbpedia_source)"
   ]
  },
  {
   "cell_type": "code",
   "execution_count": 5,
   "metadata": {},
   "outputs": [
    {
     "data": {
      "text/plain": [
       "('rock music', 'http://www.wikidata.org/entity/Q11399')"
      ]
     },
     "metadata": {},
     "output_type": "display_data"
    }
   ],
   "source": [
    "result = await wikidata_disambiguator._label_to_item(labels[0])\n",
    "display(result)"
   ]
  },
  {
   "cell_type": "code",
   "execution_count": 6,
   "metadata": {},
   "outputs": [
    {
     "data": {
      "text/plain": [
       "('Rock music', 'http://dbpedia.org/resource/Rock_music')"
      ]
     },
     "metadata": {},
     "output_type": "display_data"
    }
   ],
   "source": [
    "result = await dbpedia_disambiguator._label_to_item(labels[0])\n",
    "display(result)"
   ]
  },
  {
   "cell_type": "code",
   "execution_count": 7,
   "metadata": {},
   "outputs": [
    {
     "data": {
      "text/plain": [
       "('rock music', Item(IRI('http://www.wikidata.org/entity/Q11399')))"
      ]
     },
     "metadata": {},
     "output_type": "display_data"
    }
   ],
   "source": [
    "async for result in wikidata_disambiguator.alabels_to_items(labels):\n",
    "    display(result)"
   ]
  },
  {
   "cell_type": "code",
   "execution_count": 8,
   "metadata": {},
   "outputs": [
    {
     "data": {
      "text/plain": [
       "('Rock music', Item(IRI('http://dbpedia.org/resource/Rock_music')))"
      ]
     },
     "metadata": {},
     "output_type": "display_data"
    }
   ],
   "source": [
    "async for result in dbpedia_disambiguator.alabels_to_items(labels):\n",
    "    display(result)"
   ]
  },
  {
   "cell_type": "code",
   "execution_count": 9,
   "metadata": {},
   "outputs": [],
   "source": [
    "import os\n",
    "import dotenv\n",
    "dotenv.load_dotenv()\n",
    "\n",
    "from langchain_openai import ChatOpenAI\n",
    "\n",
    "model = ChatOpenAI(model='gpt-4o', api_key=os.environ['GPT_API_KEY'])"
   ]
  },
  {
   "cell_type": "code",
   "execution_count": 10,
   "metadata": {},
   "outputs": [
    {
     "data": {
      "text/plain": [
       "'rock'"
      ]
     },
     "metadata": {},
     "output_type": "display_data"
    },
    {
     "data": {
      "text/markdown": [
       "(**Item** [wd:Q8063](http://www.wikidata.org/entity/Q8063))"
      ],
      "text/plain": [
       "Item(IRI('http://www.wikidata.org/entity/Q8063'))"
      ]
     },
     "metadata": {},
     "output_type": "display_data"
    }
   ],
   "source": [
    "wikidata_disambiguator = Disambiguator(\n",
    "    disambiguator_name='llm',\n",
    "    source=wikidata_source,\n",
    "    model= model, sentence_term_template='The path was lined with {term} and pebbles.')\n",
    "\n",
    "async for label, item in wikidata_disambiguator.alabels_to_items(labels):\n",
    "  if item:\n",
    "      display(label, item)\n",
    "  else:\n",
    "      print(f\"Label: {label} WID: {None}\")"
   ]
  }
 ],
 "metadata": {
  "kernelspec": {
   "display_name": "venv",
   "language": "python",
   "name": "python3"
  },
  "language_info": {
   "codemirror_mode": {
    "name": "ipython",
    "version": 3
   },
   "file_extension": ".py",
   "mimetype": "text/x-python",
   "name": "python",
   "nbconvert_exporter": "python",
   "pygments_lexer": "ipython3",
   "version": "3.11.11"
  }
 },
 "nbformat": 4,
 "nbformat_minor": 2
}
