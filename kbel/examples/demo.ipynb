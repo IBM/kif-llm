{
 "cells": [
  {
   "cell_type": "code",
   "execution_count": 1,
   "metadata": {},
   "outputs": [],
   "source": [
    "from kif_lib import Search\n",
    "from kbel.disambiguators import Disambiguator\n",
    "# import logging\n",
    "# logging.basicConfig(level=logging.DEBUG)"
   ]
  },
  {
   "cell_type": "markdown",
   "metadata": {},
   "source": [
    "### Using `simple` disambiguator to link entities from Wikidata"
   ]
  },
  {
   "cell_type": "code",
   "execution_count": 2,
   "metadata": {},
   "outputs": [
    {
     "data": {
      "text/plain": [
       "('rock music',\n",
       " 'popular music genre',\n",
       " Item(IRI('http://www.wikidata.org/entity/Q11399')))"
      ]
     },
     "metadata": {},
     "output_type": "display_data"
    }
   ],
   "source": [
    "from kbel.disambiguators.simple import SimpleDisambiguator\n",
    "kbel = Disambiguator(disambiguator_name='simple')\n",
    "results = kbel.disambiguate_item(\n",
    "    label='Rock',\n",
    "    searcher=Search('wikidata-wapi', limit=10))\n",
    "display (*results)"
   ]
  },
  {
   "cell_type": "markdown",
   "metadata": {},
   "source": [
    "### Using `similarity` disambiguator to link entities from Wikidata"
   ]
  },
  {
   "cell_type": "code",
   "execution_count": 3,
   "metadata": {},
   "outputs": [
    {
     "data": {
      "text/plain": [
       "('stone',\n",
       " 'rock; building material',\n",
       " Item(IRI('http://www.wikidata.org/entity/Q22731')))"
      ]
     },
     "metadata": {},
     "output_type": "display_data"
    }
   ],
   "source": [
    "from kbel.disambiguators.similarity import SimilarityDisambiguator\n",
    "kbel = Disambiguator(disambiguator_name='sim')\n",
    "results = kbel.disambiguate_item(\n",
    "    label='Rock',\n",
    "    searcher=Search('wikidata-wapi', limit=10),\n",
    "    sentence='Rock is a stone',\n",
    "    limit=1)\n",
    "display (*results)"
   ]
  },
  {
   "cell_type": "markdown",
   "metadata": {},
   "source": [
    "### Using `LLM` disambiguator to link entities from Wikidata"
   ]
  },
  {
   "cell_type": "markdown",
   "metadata": {},
   "source": [
    "Instantiating LLM Disambiguator with IBM WatsonX's models"
   ]
  },
  {
   "cell_type": "code",
   "execution_count": 4,
   "metadata": {},
   "outputs": [],
   "source": [
    "import os\n",
    "import dotenv\n",
    "dotenv.load_dotenv()\n",
    "\n",
    "from kbel.disambiguators.llm import LLM_Disambiguator\n",
    "\n",
    "kbel = Disambiguator(\n",
    "    'llm',\n",
    "    model_name='meta-llama/llama-3-3-70b-instruct',\n",
    "    model_provider='ibm',\n",
    "    model_apikey=os.environ['LLM_API_KEY'],\n",
    "    model_endpoint=os.environ['LLM_API_ENDPOINT'],\n",
    "    model_params={\n",
    "        'project_id': os.environ['WATSONX_PROJECT_ID']\n",
    "    }\n",
    ")"
   ]
  },
  {
   "cell_type": "code",
   "execution_count": 6,
   "metadata": {},
   "outputs": [
    {
     "data": {
      "text/plain": [
       "('rock',\n",
       " 'mass of stone projecting out of the ground or water',\n",
       " Item(IRI('http://www.wikidata.org/entity/Q1404150')))"
      ]
     },
     "metadata": {},
     "output_type": "display_data"
    },
    {
     "data": {
      "text/plain": [
       "('rock',\n",
       " 'naturally occurring solid aggregate of one or more minerals or mineraloids',\n",
       " Item(IRI('http://www.wikidata.org/entity/Q8063')))"
      ]
     },
     "metadata": {},
     "output_type": "display_data"
    }
   ],
   "source": [
    "results = kbel.disambiguate_item(\n",
    "    label='Rock',\n",
    "    searcher=Search('wikidata-wapi', limit=100),\n",
    "    sentence='A rock can be used in construction to mimic the appearance and durability of natural stone.')\n",
    "\n",
    "display (*results)"
   ]
  },
  {
   "cell_type": "markdown",
   "metadata": {},
   "source": [
    "LLM disambiguator uses [LangChain ChatModels](https://python.langchain.com/docs/integrations/providers/). Below, we use IBM WatsonX's models"
   ]
  },
  {
   "cell_type": "code",
   "execution_count": 7,
   "metadata": {},
   "outputs": [],
   "source": [
    "from langchain_ibm import ChatWatsonx\n",
    "model = ChatWatsonx(\n",
    "    model_id='meta-llama/llama-3-3-70b-instruct',\n",
    "    apikey=os.environ['LLM_API_KEY'], # type: ignore\n",
    "    url=os.environ['LLM_API_ENDPOINT'], # type: ignore\n",
    "    project_id=os.environ['WATSONX_PROJECT_ID'],\n",
    "    temperature=0.0\n",
    ")\n",
    "kbel = Disambiguator(disambiguator_name='llm', model=model)"
   ]
  },
  {
   "cell_type": "code",
   "execution_count": 8,
   "metadata": {},
   "outputs": [
    {
     "data": {
      "text/plain": [
       "('rock',\n",
       " 'mass of stone projecting out of the ground or water',\n",
       " Item(IRI('http://www.wikidata.org/entity/Q1404150')))"
      ]
     },
     "metadata": {},
     "output_type": "display_data"
    },
    {
     "data": {
      "text/plain": [
       "('rock',\n",
       " 'naturally occurring solid aggregate of one or more minerals or mineraloids',\n",
       " Item(IRI('http://www.wikidata.org/entity/Q8063')))"
      ]
     },
     "metadata": {},
     "output_type": "display_data"
    }
   ],
   "source": [
    "results = kbel.disambiguate_item(\n",
    "    label='Rock',\n",
    "    searcher=Search('wikidata-wapi', limit=100),\n",
    "    sentence='A rock can be used in construction to mimic the appearance and durability of natural stone.')\n",
    "display (*results)"
   ]
  },
  {
   "cell_type": "markdown",
   "metadata": {},
   "source": [
    "Disambiguating properties:"
   ]
  },
  {
   "cell_type": "code",
   "execution_count": 9,
   "metadata": {},
   "outputs": [
    {
     "data": {
      "text/plain": [
       "('instance of',\n",
       " 'type to which this subject corresponds/belongs. Different from P279 (subclass of); for example: K2 is an instance of mountain; volcanoes form a subclass of mountains',\n",
       " Property(IRI('http://www.wikidata.org/entity/P31'), None))"
      ]
     },
     "metadata": {},
     "output_type": "display_data"
    }
   ],
   "source": [
    "results = kbel.disambiguate_property(\n",
    "    label='instance of', searcher=Search('wikidata-wapi', limit=20), sentence='John is a Human')\n",
    "display(*results)"
   ]
  },
  {
   "cell_type": "markdown",
   "metadata": {},
   "source": [
    "Linking entities to DBpedia"
   ]
  },
  {
   "cell_type": "code",
   "execution_count": 10,
   "metadata": {},
   "outputs": [
    {
     "data": {
      "text/plain": [
       "('Metamorphic rock',\n",
       " '',\n",
       " Item(IRI('http://dbpedia.org/resource/Metamorphic_rock')))"
      ]
     },
     "metadata": {},
     "output_type": "display_data"
    },
    {
     "data": {
      "text/plain": [
       "('Sedimentary rock',\n",
       " '',\n",
       " Item(IRI('http://dbpedia.org/resource/Sedimentary_rock')))"
      ]
     },
     "metadata": {},
     "output_type": "display_data"
    }
   ],
   "source": [
    "searcher = Search('dbpedia', limit=100)\n",
    "results = kbel.disambiguate_item(label='Rock', searcher=searcher, sentence='A rock can be used in construction to mimic the appearance and durability of natural stone.')\n",
    "display(*results)"
   ]
  },
  {
   "cell_type": "markdown",
   "metadata": {},
   "source": [
    "Linking entities to PubChem"
   ]
  },
  {
   "cell_type": "code",
   "execution_count": 11,
   "metadata": {},
   "outputs": [
    {
     "data": {
      "text/plain": [
       "('PubChem Benzene | C6H6 | CID 241 - PubChem',\n",
       " 'Benzene | C6H6 | CID 241 - structure, chemical names, physical and chemical properties, classification, patents, literature, biological activities, safety/hazards/toxicity information, supplier lists, and more.',\n",
       " Item(IRI('http://rdf.ncbi.nlm.nih.gov/pubchem/compound/CID241')))"
      ]
     },
     "metadata": {},
     "output_type": "display_data"
    }
   ],
   "source": [
    "results = kbel.disambiguate_item(label='benzene', searcher=Search('pubchem-ddgs', limit=20), sentence='A benzene can be used in construction to mimic the appearance and durability of natural stone.')\n",
    "display(*results)"
   ]
  }
 ],
 "metadata": {
  "kernelspec": {
   "display_name": "venv",
   "language": "python",
   "name": "python3"
  },
  "language_info": {
   "codemirror_mode": {
    "name": "ipython",
    "version": 3
   },
   "file_extension": ".py",
   "mimetype": "text/x-python",
   "name": "python",
   "nbconvert_exporter": "python",
   "pygments_lexer": "ipython3",
   "version": "3.11.11"
  }
 },
 "nbformat": 4,
 "nbformat_minor": 2
}
