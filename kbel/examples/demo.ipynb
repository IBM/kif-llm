{
 "cells": [
  {
   "cell_type": "code",
   "execution_count": 1,
   "metadata": {},
   "outputs": [],
   "source": [
    "from kif_lib import *\n",
    "from kbel.disambiguators import Disambiguator, LLM_Disambiguator\n",
    "# import logging\n",
    "# logging.basicConfig(level=logging.DEBUG)"
   ]
  },
  {
   "cell_type": "markdown",
   "metadata": {},
   "source": [
    "### Using `simple` disambiguator to link entities from Wikidata"
   ]
  },
  {
   "cell_type": "code",
   "execution_count": 3,
   "metadata": {},
   "outputs": [
    {
     "data": {
      "text/plain": [
       "[('rock music',\n",
       "  'popular music genre',\n",
       "  Item(IRI('http://www.wikidata.org/entity/Q11399')))]"
      ]
     },
     "execution_count": 3,
     "metadata": {},
     "output_type": "execute_result"
    }
   ],
   "source": [
    "kbel = Disambiguator(disambiguator_name='simple')\n",
    "result = kbel.disambiguate_item(\n",
    "    label='Rock',\n",
    "    searcher=Search('wikidata-wapi', limit=10))\n",
    "result"
   ]
  },
  {
   "cell_type": "markdown",
   "metadata": {},
   "source": [
    "### Using `similarity` disambiguator to link entities from Wikidata"
   ]
  },
  {
   "cell_type": "code",
   "execution_count": 8,
   "metadata": {},
   "outputs": [
    {
     "data": {
      "text/plain": [
       "[('stone',\n",
       "  'rock; building material',\n",
       "  Item(IRI('http://www.wikidata.org/entity/Q22731')))]"
      ]
     },
     "execution_count": 8,
     "metadata": {},
     "output_type": "execute_result"
    }
   ],
   "source": [
    "kbel = Disambiguator(disambiguator_name='sim')\n",
    "result = kbel.disambiguate_item(\n",
    "    label='Rock',\n",
    "    searcher=Search('wikidata-wapi', limit=10),\n",
    "    sentence='Rock is a stone',\n",
    "    limit=1)\n",
    "result"
   ]
  },
  {
   "cell_type": "markdown",
   "metadata": {},
   "source": [
    "### Using `LLM` disambiguator to link entities from Wikidata"
   ]
  },
  {
   "cell_type": "markdown",
   "metadata": {},
   "source": [
    "LLM disambiguator uses [LangChain ChatModels](https://python.langchain.com/docs/integrations/providers/). Below, we use IBM WatsonX's models"
   ]
  },
  {
   "cell_type": "code",
   "execution_count": 11,
   "metadata": {},
   "outputs": [],
   "source": [
    "import os\n",
    "import dotenv\n",
    "dotenv.load_dotenv()\n",
    "\n",
    "from langchain_ibm import ChatWatsonx\n",
    "\n",
    "model = ChatWatsonx(\n",
    "    model_id='meta-llama/llama-3-3-70b-instruct',\n",
    "    apikey=os.environ['LLM_API_KEY'], # type: ignore\n",
    "    url=os.environ['LLM_API_ENDPOINT'], # type: ignore\n",
    "    project_id=os.environ['WATSONX_PROJECT_ID'],\n",
    "    temperature=0.0\n",
    ")"
   ]
  },
  {
   "cell_type": "code",
   "execution_count": 12,
   "metadata": {},
   "outputs": [],
   "source": [
    "kbel = Disambiguator(disambiguator_name='llm', model=model)"
   ]
  },
  {
   "cell_type": "code",
   "execution_count": null,
   "metadata": {},
   "outputs": [
    {
     "data": {
      "text/plain": [
       "[('Rock',\n",
       "  'male given name',\n",
       "  Item(IRI('http://www.wikidata.org/entity/Q60589667'))),\n",
       " ('Rock',\n",
       "  'family name',\n",
       "  Item(IRI('http://www.wikidata.org/entity/Q21003018')))]"
      ]
     },
     "execution_count": 13,
     "metadata": {},
     "output_type": "execute_result"
    }
   ],
   "source": [
    "result = kbel.disambiguate_item(\n",
    "    label='Rock',\n",
    "    searcher=Search('wikidata-wapi', limit=20),\n",
    "    sentence='A rock can be used in construction to mimic the appearance and durability of natural stone.')\n",
    "result"
   ]
  },
  {
   "cell_type": "code",
   "execution_count": 15,
   "metadata": {},
   "outputs": [
    {
     "data": {
      "text/plain": [
       "[('instance of',\n",
       "  'type to which this subject corresponds/belongs. Different from P279 (subclass of); for example: K2 is an instance of mountain; volcanoes form a subclass of mountains',\n",
       "  Property(IRI('http://www.wikidata.org/entity/P31'), None))]"
      ]
     },
     "execution_count": 15,
     "metadata": {},
     "output_type": "execute_result"
    }
   ],
   "source": [
    "result = kbel.disambiguate_property(\n",
    "    label='instance of', searcher=Search('wikidata-wapi', limit=20), sentence='John is a Human')\n",
    "result"
   ]
  },
  {
   "cell_type": "code",
   "execution_count": 16,
   "metadata": {},
   "outputs": [
    {
     "data": {
      "text/plain": [
       "[('Little Rock, Arkansas',\n",
       "  ' the river, named the \"Little Rock\" (French: La Petite Roche) by the French explorer Jean-Baptiste',\n",
       "  Item(IRI('http://dbpedia.org/resource/Little_Rock,_Arkansas')))]"
      ]
     },
     "execution_count": 16,
     "metadata": {},
     "output_type": "execute_result"
    }
   ],
   "source": [
    "result = kbel.disambiguate_item(label='Rock', searcher=Search('dbpedia', limit=20), sentence='A rock can be used in construction to mimic the appearance and durability of natural stone.')\n",
    "result"
   ]
  },
  {
   "cell_type": "code",
   "execution_count": 18,
   "metadata": {},
   "outputs": [
    {
     "data": {
      "text/plain": [
       "[('Benzene | C6H6 | CID 241 - PubChem',\n",
       "  'The term benzene denotes the pure compound; benzol is still used to a small degree in some countries to represent the compound or a material having benzene as its main component.',\n",
       "  Item(IRI('http://rdf.ncbi.nlm.nih.gov/pubchem/compound/CID241')))]"
      ]
     },
     "execution_count": 18,
     "metadata": {},
     "output_type": "execute_result"
    }
   ],
   "source": [
    "result = kbel.disambiguate_item(label='benzene', searcher=Search('pubchem-ddgs', limit=20), sentence='A benzene can be used in construction to mimic the appearance and durability of natural stone.')\n",
    "result"
   ]
  }
 ],
 "metadata": {
  "kernelspec": {
   "display_name": "venv",
   "language": "python",
   "name": "python3"
  },
  "language_info": {
   "codemirror_mode": {
    "name": "ipython",
    "version": 3
   },
   "file_extension": ".py",
   "mimetype": "text/x-python",
   "name": "python",
   "nbconvert_exporter": "python",
   "pygments_lexer": "ipython3",
   "version": "3.11.11"
  }
 },
 "nbformat": 4,
 "nbformat_minor": 2
}
