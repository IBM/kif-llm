{
  "cells": [
    {
      "cell_type": "markdown",
      "metadata": {},
      "source": [
        "To run this notebook you need first to install the kif-llm-sotre package in your virtual environment. Run `pip install -e .` in your terminal. "
      ]
    },
    {
      "cell_type": "code",
      "execution_count": 1,
      "metadata": {},
      "outputs": [],
      "source": [
        "import os\n",
        "# Use to get you environment variables\n",
        "import dotenv\n",
        "dotenv.load_dotenv()\n",
        "\n",
        "# import kif-lib\n",
        "from kif_lib import *\n",
        "from kif_lib.vocabulary import wd\n",
        "\n",
        "# import our KIF-LLM-Store extension\n",
        "from kif_llm_store import *\n",
        "from kif_llm_store.store.llm.constants import LLM_Providers, EntityResolutionMethod\n",
        "\n",
        "# uncomment to print execution information (including LLM prompts)\n",
        "# import logging\n",
        "# logging.basicConfig(level=logging.INFO)"
      ]
    },
    {
      "cell_type": "code",
      "execution_count": 2,
      "metadata": {},
      "outputs": [],
      "source": [
        "# instanciate a LLM Store\n",
        "kb: LLM_Store = Store(\n",
        "  LLM_Store.store_name, # indicate it is an LLM Store\n",
        "  llm_provider=LLM_Providers.IBM, # We are using IBM WatsonX AI Models\n",
        "  model_id='meta-llama/llama-3-1-70b-instruct', # the model id we are using\n",
        "  base_url=os.environ['LLM_API_ENDPOINT'], #endpoint to the llm models\n",
        "  api_key=os.environ['LLM_API_KEY'], # api key to access those models\n",
        "  project_id=os.environ['WATSONX_PROJECT_ID'],\n",
        "  model_params= { 'decoding_method': 'greedy' }\n",
        ")"
      ]
    },
    {
      "cell_type": "markdown",
      "metadata": {},
      "source": [
        "### Brazil official language"
      ]
    },
    {
      "cell_type": "code",
      "execution_count": 3,
      "metadata": {},
      "outputs": [
        {
          "data": {
            "text/markdown": [
              "(**Statement** (**Item** [Brazil](http://www.wikidata.org/entity/Q155)) (**ValueSnak** (**Property** [official language](http://www.wikidata.org/entity/P37)) (**Item** [Portuguese](http://www.wikidata.org/entity/Q5146))))"
            ],
            "text/plain": [
              "Statement(Item(IRI('http://www.wikidata.org/entity/Q155')), ValueSnak(Property(IRI('http://www.wikidata.org/entity/P37'), ItemDatatype()), Item(IRI('http://www.wikidata.org/entity/Q5146'))))"
            ]
          },
          "metadata": {},
          "output_type": "display_data"
        }
      ],
      "source": [
        "# define a pattern to query llm store\n",
        "subject = wd.Brazil # or wd.Q(155, 'Brazil')\n",
        "property = wd.official_language # or wd.P(37, 'official language')\n",
        "\n",
        "# execute pattern on llm store and print the results:\n",
        "result = kb.filter(subject=subject, property=property)\n",
        "for stmt in result:\n",
        "    display(stmt)"
      ]
    },
    {
      "cell_type": "code",
      "execution_count": 4,
      "metadata": {},
      "outputs": [
        {
          "data": {
            "text/markdown": [
              "(**Statement** (**Item** [Brazil](http://www.wikidata.org/entity/Q155)) (**ValueSnak** (**Property** [official language](http://www.wikidata.org/entity/P37)) (**Item** [Portuguese](http://www.wikidata.org/entity/Q5146))))"
            ],
            "text/plain": [
              "Statement(Item(IRI('http://www.wikidata.org/entity/Q155')), ValueSnak(Property(IRI('http://www.wikidata.org/entity/P37'), ItemDatatype()), Item(IRI('http://www.wikidata.org/entity/Q5146'))))"
            ]
          },
          "metadata": {},
          "output_type": "display_data"
        }
      ],
      "source": [
        "# Try in advance to transform your filter into a natural language question\n",
        "kb.compile_to_natural_language_question = True\n",
        "# execute pattern on llm store and print the results:\n",
        "result = kb.filter(subject=wd.Brazil, property=wd.official_language) # What is Brazil's official language?\n",
        "for stmt in result:\n",
        "    display(stmt)"
      ]
    },
    {
      "cell_type": "code",
      "execution_count": 5,
      "metadata": {},
      "outputs": [
        {
          "data": {
            "text/markdown": [
              "(**Statement** (**Item** [Brazil](http://www.wikidata.org/entity/Q155)) (**ValueSnak** (**Property** [population](http://www.wikidata.org/entity/P1082)) (**Quantity** 212531000)))"
            ],
            "text/plain": [
              "Statement(Item(IRI('http://www.wikidata.org/entity/Q155')), ValueSnak(Property(IRI('http://www.wikidata.org/entity/P1082'), QuantityDatatype()), Quantity(Decimal('212531000'), None, None, None)))"
            ]
          },
          "metadata": {},
          "output_type": "display_data"
        }
      ],
      "source": [
        "# execute pattern on llm store and print the results:\n",
        "result = kb.filter(subject=wd.Brazil, property=wd.population)\n",
        "for stmt in result:\n",
        "    display(stmt)"
      ]
    },
    {
      "cell_type": "code",
      "execution_count": 6,
      "metadata": {},
      "outputs": [
        {
          "data": {
            "text/markdown": [
              "(**Statement** (**Item** [Brazil](http://www.wikidata.org/entity/Q155)) (**ValueSnak** (**Property** [shares border with](http://www.wikidata.org/entity/P47)) (**Item** [Guyana](http://www.wikidata.org/entity/Q734))))"
            ],
            "text/plain": [
              "Statement(Item(IRI('http://www.wikidata.org/entity/Q155')), ValueSnak(Property(IRI('http://www.wikidata.org/entity/P47'), ItemDatatype()), Item(IRI('http://www.wikidata.org/entity/Q734'))))"
            ]
          },
          "metadata": {},
          "output_type": "display_data"
        },
        {
          "data": {
            "text/markdown": [
              "(**Statement** (**Item** [Brazil](http://www.wikidata.org/entity/Q155)) (**ValueSnak** (**Property** [shares border with](http://www.wikidata.org/entity/P47)) (**Item** [Colombia](http://www.wikidata.org/entity/Q739))))"
            ],
            "text/plain": [
              "Statement(Item(IRI('http://www.wikidata.org/entity/Q155')), ValueSnak(Property(IRI('http://www.wikidata.org/entity/P47'), ItemDatatype()), Item(IRI('http://www.wikidata.org/entity/Q739'))))"
            ]
          },
          "metadata": {},
          "output_type": "display_data"
        },
        {
          "data": {
            "text/markdown": [
              "(**Statement** (**Item** [Brazil](http://www.wikidata.org/entity/Q155)) (**ValueSnak** (**Property** [shares border with](http://www.wikidata.org/entity/P47)) (**Item** [French Guiana](http://www.wikidata.org/entity/Q3769))))"
            ],
            "text/plain": [
              "Statement(Item(IRI('http://www.wikidata.org/entity/Q155')), ValueSnak(Property(IRI('http://www.wikidata.org/entity/P47'), ItemDatatype()), Item(IRI('http://www.wikidata.org/entity/Q3769'))))"
            ]
          },
          "metadata": {},
          "output_type": "display_data"
        },
        {
          "data": {
            "text/markdown": [
              "(**Statement** (**Item** [Brazil](http://www.wikidata.org/entity/Q155)) (**ValueSnak** (**Property** [shares border with](http://www.wikidata.org/entity/P47)) (**Item** [Suriname](http://www.wikidata.org/entity/Q730))))"
            ],
            "text/plain": [
              "Statement(Item(IRI('http://www.wikidata.org/entity/Q155')), ValueSnak(Property(IRI('http://www.wikidata.org/entity/P47'), ItemDatatype()), Item(IRI('http://www.wikidata.org/entity/Q730'))))"
            ]
          },
          "metadata": {},
          "output_type": "display_data"
        },
        {
          "data": {
            "text/markdown": [
              "(**Statement** (**Item** [Brazil](http://www.wikidata.org/entity/Q155)) (**ValueSnak** (**Property** [shares border with](http://www.wikidata.org/entity/P47)) (**Item** [Paraguay](http://www.wikidata.org/entity/Q733))))"
            ],
            "text/plain": [
              "Statement(Item(IRI('http://www.wikidata.org/entity/Q155')), ValueSnak(Property(IRI('http://www.wikidata.org/entity/P47'), ItemDatatype()), Item(IRI('http://www.wikidata.org/entity/Q733'))))"
            ]
          },
          "metadata": {},
          "output_type": "display_data"
        },
        {
          "data": {
            "text/markdown": [
              "(**Statement** (**Item** [Brazil](http://www.wikidata.org/entity/Q155)) (**ValueSnak** (**Property** [shares border with](http://www.wikidata.org/entity/P47)) (**Item** [Argentina](http://www.wikidata.org/entity/Q414))))"
            ],
            "text/plain": [
              "Statement(Item(IRI('http://www.wikidata.org/entity/Q155')), ValueSnak(Property(IRI('http://www.wikidata.org/entity/P47'), ItemDatatype()), Item(IRI('http://www.wikidata.org/entity/Q414'))))"
            ]
          },
          "metadata": {},
          "output_type": "display_data"
        },
        {
          "data": {
            "text/markdown": [
              "(**Statement** (**Item** [Brazil](http://www.wikidata.org/entity/Q155)) (**ValueSnak** (**Property** [shares border with](http://www.wikidata.org/entity/P47)) (**Item** [Peru](http://www.wikidata.org/entity/Q419))))"
            ],
            "text/plain": [
              "Statement(Item(IRI('http://www.wikidata.org/entity/Q155')), ValueSnak(Property(IRI('http://www.wikidata.org/entity/P47'), ItemDatatype()), Item(IRI('http://www.wikidata.org/entity/Q419'))))"
            ]
          },
          "metadata": {},
          "output_type": "display_data"
        },
        {
          "data": {
            "text/markdown": [
              "(**Statement** (**Item** [Brazil](http://www.wikidata.org/entity/Q155)) (**ValueSnak** (**Property** [shares border with](http://www.wikidata.org/entity/P47)) (**Item** [Bolivia](http://www.wikidata.org/entity/Q750))))"
            ],
            "text/plain": [
              "Statement(Item(IRI('http://www.wikidata.org/entity/Q155')), ValueSnak(Property(IRI('http://www.wikidata.org/entity/P47'), ItemDatatype()), Item(IRI('http://www.wikidata.org/entity/Q750'))))"
            ]
          },
          "metadata": {},
          "output_type": "display_data"
        }
      ],
      "source": [
        "# countries that shares border with Brazil\n",
        "result = kb.filter(subject=wd.Brazil, property=wd.shares_border_with, value=wd.instance_of(wd.country_))\n",
        "for stmt in result:\n",
        "    display(stmt)"
      ]
    },
    {
      "cell_type": "code",
      "execution_count": 7,
      "metadata": {},
      "outputs": [
        {
          "data": {
            "text/markdown": [
              "(**Statement** (**Item** [Bolivia](http://www.wikidata.org/entity/Q750)) (**ValueSnak** (**Property** [shares border with](http://www.wikidata.org/entity/P47)) (**Item** [Brazil](http://www.wikidata.org/entity/Q155))))"
            ],
            "text/plain": [
              "Statement(Item(IRI('http://www.wikidata.org/entity/Q750')), ValueSnak(Property(IRI('http://www.wikidata.org/entity/P47'), ItemDatatype()), Item(IRI('http://www.wikidata.org/entity/Q155'))))"
            ]
          },
          "metadata": {},
          "output_type": "display_data"
        },
        {
          "data": {
            "text/markdown": [
              "(**Statement** (**Item** [Paraguay](http://www.wikidata.org/entity/Q733)) (**ValueSnak** (**Property** [shares border with](http://www.wikidata.org/entity/P47)) (**Item** [Brazil](http://www.wikidata.org/entity/Q155))))"
            ],
            "text/plain": [
              "Statement(Item(IRI('http://www.wikidata.org/entity/Q733')), ValueSnak(Property(IRI('http://www.wikidata.org/entity/P47'), ItemDatatype()), Item(IRI('http://www.wikidata.org/entity/Q155'))))"
            ]
          },
          "metadata": {},
          "output_type": "display_data"
        },
        {
          "data": {
            "text/markdown": [
              "(**Statement** (**Item** [Colombia](http://www.wikidata.org/entity/Q739)) (**ValueSnak** (**Property** [shares border with](http://www.wikidata.org/entity/P47)) (**Item** [Brazil](http://www.wikidata.org/entity/Q155))))"
            ],
            "text/plain": [
              "Statement(Item(IRI('http://www.wikidata.org/entity/Q739')), ValueSnak(Property(IRI('http://www.wikidata.org/entity/P47'), ItemDatatype()), Item(IRI('http://www.wikidata.org/entity/Q155'))))"
            ]
          },
          "metadata": {},
          "output_type": "display_data"
        },
        {
          "data": {
            "text/markdown": [
              "(**Statement** (**Item** [Guyana](http://www.wikidata.org/entity/Q734)) (**ValueSnak** (**Property** [shares border with](http://www.wikidata.org/entity/P47)) (**Item** [Brazil](http://www.wikidata.org/entity/Q155))))"
            ],
            "text/plain": [
              "Statement(Item(IRI('http://www.wikidata.org/entity/Q734')), ValueSnak(Property(IRI('http://www.wikidata.org/entity/P47'), ItemDatatype()), Item(IRI('http://www.wikidata.org/entity/Q155'))))"
            ]
          },
          "metadata": {},
          "output_type": "display_data"
        },
        {
          "data": {
            "text/markdown": [
              "(**Statement** (**Item** [Peru](http://www.wikidata.org/entity/Q419)) (**ValueSnak** (**Property** [shares border with](http://www.wikidata.org/entity/P47)) (**Item** [Brazil](http://www.wikidata.org/entity/Q155))))"
            ],
            "text/plain": [
              "Statement(Item(IRI('http://www.wikidata.org/entity/Q419')), ValueSnak(Property(IRI('http://www.wikidata.org/entity/P47'), ItemDatatype()), Item(IRI('http://www.wikidata.org/entity/Q155'))))"
            ]
          },
          "metadata": {},
          "output_type": "display_data"
        },
        {
          "data": {
            "text/markdown": [
              "(**Statement** (**Item** [Suriname](http://www.wikidata.org/entity/Q730)) (**ValueSnak** (**Property** [shares border with](http://www.wikidata.org/entity/P47)) (**Item** [Brazil](http://www.wikidata.org/entity/Q155))))"
            ],
            "text/plain": [
              "Statement(Item(IRI('http://www.wikidata.org/entity/Q730')), ValueSnak(Property(IRI('http://www.wikidata.org/entity/P47'), ItemDatatype()), Item(IRI('http://www.wikidata.org/entity/Q155'))))"
            ]
          },
          "metadata": {},
          "output_type": "display_data"
        },
        {
          "data": {
            "text/markdown": [
              "(**Statement** (**Item** [French Guiana](http://www.wikidata.org/entity/Q3769)) (**ValueSnak** (**Property** [shares border with](http://www.wikidata.org/entity/P47)) (**Item** [Brazil](http://www.wikidata.org/entity/Q155))))"
            ],
            "text/plain": [
              "Statement(Item(IRI('http://www.wikidata.org/entity/Q3769')), ValueSnak(Property(IRI('http://www.wikidata.org/entity/P47'), ItemDatatype()), Item(IRI('http://www.wikidata.org/entity/Q155'))))"
            ]
          },
          "metadata": {},
          "output_type": "display_data"
        },
        {
          "data": {
            "text/markdown": [
              "(**Statement** (**Item** [Argentina](http://www.wikidata.org/entity/Q414)) (**ValueSnak** (**Property** [shares border with](http://www.wikidata.org/entity/P47)) (**Item** [Brazil](http://www.wikidata.org/entity/Q155))))"
            ],
            "text/plain": [
              "Statement(Item(IRI('http://www.wikidata.org/entity/Q414')), ValueSnak(Property(IRI('http://www.wikidata.org/entity/P47'), ItemDatatype()), Item(IRI('http://www.wikidata.org/entity/Q155'))))"
            ]
          },
          "metadata": {},
          "output_type": "display_data"
        }
      ],
      "source": [
        "# countries that shares border with Brazil (Now Brazil is the value not the subject)\n",
        "result = kb.filter(subject=wd.instance_of(wd.country_), property=wd.shares_border_with, value=wd.Brazil)\n",
        "for stmt in result:\n",
        "    display(stmt)"
      ]
    },
    {
      "cell_type": "code",
      "execution_count": 8,
      "metadata": {},
      "outputs": [
        {
          "data": {
            "text/markdown": [
              "(**Statement** (**Item** [benzene](http://www.wikidata.org/entity/Q2270)) (**ValueSnak** (**Property** [mass](http://www.wikidata.org/entity/P2067)) (**Quantity** 78.11)))"
            ],
            "text/plain": [
              "Statement(Item(IRI('http://www.wikidata.org/entity/Q2270')), ValueSnak(Property(IRI('http://www.wikidata.org/entity/P2067'), QuantityDatatype()), Quantity(Decimal('78.11'), None, None, None)))"
            ]
          },
          "metadata": {},
          "output_type": "display_data"
        }
      ],
      "source": [
        "# execute pattern on llm store and print the results:\n",
        "result = kb.filter(subject=wd.benzene, property=wd.mass)\n",
        "for stmt in result:\n",
        "    display(stmt)"
      ]
    }
  ],
  "metadata": {
    "kernelspec": {
      "display_name": ".venv",
      "language": "python",
      "name": "python3"
    },
    "language_info": {
      "codemirror_mode": {
        "name": "ipython",
        "version": 3
      },
      "file_extension": ".py",
      "mimetype": "text/x-python",
      "name": "python",
      "nbconvert_exporter": "python",
      "pygments_lexer": "ipython3",
      "version": "3.12.6"
    }
  },
  "nbformat": 4,
  "nbformat_minor": 2
}
