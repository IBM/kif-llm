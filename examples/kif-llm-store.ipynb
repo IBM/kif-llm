{
  "cells": [
    {
      "cell_type": "markdown",
      "metadata": {},
      "source": [
        "To run this notebook you need first to install the kif-llm-sotre package in your virtual environment. Run `pip install -e .` in your terminal. "
      ]
    },
    {
      "cell_type": "code",
      "execution_count": 1,
      "metadata": {},
      "outputs": [
        {
          "name": "stderr",
          "output_type": "stream",
          "text": [
            "/Users/marcelomachado/Documents/projects/open-kif-llm-store/kbc/lib/python3.12/site-packages/tqdm/auto.py:21: TqdmWarning: IProgress not found. Please update jupyter and ipywidgets. See https://ipywidgets.readthedocs.io/en/stable/user_install.html\n",
            "  from .autonotebook import tqdm as notebook_tqdm\n"
          ]
        }
      ],
      "source": [
        "import os\n",
        "# Use to get you environment variables\n",
        "import dotenv\n",
        "dotenv.load_dotenv()\n",
        "\n",
        "# import kif-lib\n",
        "from kif_lib import *\n",
        "from kif_lib.vocabulary import wd\n",
        "\n",
        "# import our KIF-LLM-Store extension\n",
        "from kif_llm_store import *\n",
        "\n",
        "# uncomment to print execution information (inclusing LLM prompts)\n",
        "# import logging\n",
        "# logging.basicConfig(level=logging.INFO)"
      ]
    },
    {
      "cell_type": "markdown",
      "metadata": {},
      "source": [
        "### "
      ]
    },
    {
      "cell_type": "markdown",
      "metadata": {},
      "source": [
        "### Brazil official language"
      ]
    },
    {
      "cell_type": "code",
      "execution_count": 2,
      "metadata": {},
      "outputs": [
        {
          "data": {
            "text/markdown": [
              "(**Statement** (**Item** [Brazil](http://www.wikidata.org/entity/Q155)) (**ValueSnak** (**Property** [official language](http://www.wikidata.org/entity/P37)) (**Item** [Brazilian Portuguese](http://www.wikidata.org/entity/Q750553))))"
            ],
            "text/plain": [
              "Statement(Item(IRI('http://www.wikidata.org/entity/Q155')), ValueSnak(Property(IRI('http://www.wikidata.org/entity/P37'), None), Item(IRI('http://www.wikidata.org/entity/Q750553'))))"
            ]
          },
          "metadata": {},
          "output_type": "display_data"
        }
      ],
      "source": [
        "# instanciate a KIF Store\n",
        "llm_store_bam = Store(\n",
        "  'llm', # indicate it is an LLM Store\n",
        "  llm_name='bam', # We are using IBM Big AI Models\n",
        "  llm_endpoint=os.environ['LLM_API_ENDPOINT'], #endpoint to the llm models\n",
        "  llm_api_key=os.environ['LLM_API_KEY'], # api key to access those models\n",
        "  llm_model_id='meta-llama/llama-3-8b-instruct', # the model id we are using\n",
        ")\n",
        "\n",
        "# define a pattern to query llm store\n",
        "subject = wd.Brazil # or wd.Q(155, 'Brazil')\n",
        "property = wd.P(37, 'official language') # or wd.official_language\n",
        "\n",
        "# execute patter on llm store and print the results:\n",
        "result = llm_store_bam.filter(subject=subject, property=property)\n",
        "for stmt in result:\n",
        "    display(stmt)"
      ]
    },
    {
      "cell_type": "markdown",
      "metadata": {},
      "source": [
        "### Brazil official sign language"
      ]
    },
    {
      "cell_type": "code",
      "execution_count": 3,
      "metadata": {},
      "outputs": [
        {
          "data": {
            "text/markdown": [
              "(**Statement** (**Item** [Brazil](http://www.wikidata.org/entity/Q155)) (**ValueSnak** (**Property** [official language](http://www.wikidata.org/entity/P37)) (**Item** [Brazilian Sign Language](http://www.wikidata.org/entity/Q3436689))))"
            ],
            "text/plain": [
              "Statement(Item(IRI('http://www.wikidata.org/entity/Q155')), ValueSnak(Property(IRI('http://www.wikidata.org/entity/P37'), None), Item(IRI('http://www.wikidata.org/entity/Q3436689'))))"
            ]
          },
          "metadata": {},
          "output_type": "display_data"
        }
      ],
      "source": [
        "# instanciate a KIF Store\n",
        "llm_store_bam = Store(\n",
        "  'llm', # indicate it is an LLM Store\n",
        "  llm_name='bam', # We are using IBM Big AI Models\n",
        "  llm_endpoint=os.environ['LLM_API_ENDPOINT'], #endpoint to the llm models\n",
        "  llm_api_key=os.environ['LLM_API_KEY'], # api key to access those models\n",
        "  llm_model_id='meta-llama/llama-3-8b-instruct', # the model id we are using\n",
        ")\n",
        "\n",
        "# define a pattern to query llm store\n",
        "brazil = wd.Brazil # or wd.Q(155, 'Brazil')\n",
        "official_language = wd.P(37, 'official language') # or wd.official_language\n",
        "sign_language = wd.Q(34228, 'sign language') # or wd.sign_language\n",
        "\n",
        "# execute patter on llm store and print the results:\n",
        "result = llm_store_bam.filter(brazil, official_language, wd.instance_of(sign_language))\n",
        "for stmt in result:\n",
        "    display(stmt)"
      ]
    },
    {
      "cell_type": "markdown",
      "metadata": {},
      "source": [
        "### Band members"
      ]
    },
    {
      "cell_type": "code",
      "execution_count": 4,
      "metadata": {},
      "outputs": [
        {
          "data": {
            "text/markdown": [
              "(**Statement** (**Item** [Slipknot](http://www.wikidata.org/entity/Q254138)) (**ValueSnak** (**Property** [has part(s)](http://www.wikidata.org/entity/P527)) (**Item** [singer](http://www.wikidata.org/entity/Q177220))))"
            ],
            "text/plain": [
              "Statement(Item(IRI('http://www.wikidata.org/entity/Q254138')), ValueSnak(Property(IRI('http://www.wikidata.org/entity/P527'), None), Item(IRI('http://www.wikidata.org/entity/Q177220'))))"
            ]
          },
          "metadata": {},
          "output_type": "display_data"
        },
        {
          "data": {
            "text/markdown": [
              "(**Statement** (**Item** [Slipknot](http://www.wikidata.org/entity/Q254138)) (**ValueSnak** (**Property** [has part(s)](http://www.wikidata.org/entity/P527)) (**Item** [Members](http://www.wikidata.org/entity/Q36983700))))"
            ],
            "text/plain": [
              "Statement(Item(IRI('http://www.wikidata.org/entity/Q254138')), ValueSnak(Property(IRI('http://www.wikidata.org/entity/P527'), None), Item(IRI('http://www.wikidata.org/entity/Q36983700'))))"
            ]
          },
          "metadata": {},
          "output_type": "display_data"
        }
      ],
      "source": [
        "from kif_lib import FilterPattern\n",
        "\n",
        "# define the pattern\n",
        "slipknot_band = wd.Q('Q254138', 'Slipknot')\n",
        "has_part = wd.P(527, 'has part(s)')\n",
        "\n",
        "pat = FilterPattern(\n",
        "    slipknot_band, has_part\n",
        ")\n",
        "\n",
        "llm_store_bam = Store(\n",
        "  'llm',\n",
        "  llm_name='bam',\n",
        "  llm_endpoint=os.environ['LLM_API_ENDPOINT'],\n",
        "  llm_api_key=os.environ['LLM_API_KEY'],\n",
        "  llm_model_id='meta-llama/llama-3-8b-instruct',\n",
        "  create_item=False,\n",
        ")\n",
        "\n",
        "result = llm_store_bam.filter(pattern=pat)\n",
        "for stmt in result:\n",
        "    display(stmt)"
      ]
    },
    {
      "cell_type": "markdown",
      "metadata": {},
      "source": [
        "### Band members: has part (s) needs more semantics"
      ]
    },
    {
      "cell_type": "code",
      "execution_count": 5,
      "metadata": {},
      "outputs": [
        {
          "data": {
            "text/markdown": [
              "(**Statement** (**Item** [Slipknot](http://www.wikidata.org/entity/Q254138)) (**ValueSnak** (**Property** [has part(s)](http://www.wikidata.org/entity/P527)) (**Item** [Chris Fehn](http://www.wikidata.org/entity/Q316136))))"
            ],
            "text/plain": [
              "Statement(Item(IRI('http://www.wikidata.org/entity/Q254138')), ValueSnak(Property(IRI('http://www.wikidata.org/entity/P527'), None), Item(IRI('http://www.wikidata.org/entity/Q316136'))))"
            ]
          },
          "metadata": {},
          "output_type": "display_data"
        },
        {
          "data": {
            "text/markdown": [
              "(**Statement** (**Item** [Slipknot](http://www.wikidata.org/entity/Q254138)) (**ValueSnak** (**Property** [has part(s)](http://www.wikidata.org/entity/P527)) (**Item** [Jim Root](http://www.wikidata.org/entity/Q313813))))"
            ],
            "text/plain": [
              "Statement(Item(IRI('http://www.wikidata.org/entity/Q254138')), ValueSnak(Property(IRI('http://www.wikidata.org/entity/P527'), None), Item(IRI('http://www.wikidata.org/entity/Q313813'))))"
            ]
          },
          "metadata": {},
          "output_type": "display_data"
        },
        {
          "data": {
            "text/markdown": [
              "(**Statement** (**Item** [Slipknot](http://www.wikidata.org/entity/Q254138)) (**ValueSnak** (**Property** [has part(s)](http://www.wikidata.org/entity/P527)) (**Item** [Shawn Crahan](http://www.wikidata.org/entity/Q313875))))"
            ],
            "text/plain": [
              "Statement(Item(IRI('http://www.wikidata.org/entity/Q254138')), ValueSnak(Property(IRI('http://www.wikidata.org/entity/P527'), None), Item(IRI('http://www.wikidata.org/entity/Q313875'))))"
            ]
          },
          "metadata": {},
          "output_type": "display_data"
        },
        {
          "data": {
            "text/markdown": [
              "(**Statement** (**Item** [Slipknot](http://www.wikidata.org/entity/Q254138)) (**ValueSnak** (**Property** [has part(s)](http://www.wikidata.org/entity/P527)) (**Item** [Mick Thomson](http://www.wikidata.org/entity/Q315199))))"
            ],
            "text/plain": [
              "Statement(Item(IRI('http://www.wikidata.org/entity/Q254138')), ValueSnak(Property(IRI('http://www.wikidata.org/entity/P527'), None), Item(IRI('http://www.wikidata.org/entity/Q315199'))))"
            ]
          },
          "metadata": {},
          "output_type": "display_data"
        },
        {
          "data": {
            "text/markdown": [
              "(**Statement** (**Item** [Slipknot](http://www.wikidata.org/entity/Q254138)) (**ValueSnak** (**Property** [has part(s)](http://www.wikidata.org/entity/P527)) (**Item** [Corey Taylor](http://www.wikidata.org/entity/Q295120))))"
            ],
            "text/plain": [
              "Statement(Item(IRI('http://www.wikidata.org/entity/Q254138')), ValueSnak(Property(IRI('http://www.wikidata.org/entity/P527'), None), Item(IRI('http://www.wikidata.org/entity/Q295120'))))"
            ]
          },
          "metadata": {},
          "output_type": "display_data"
        },
        {
          "data": {
            "text/markdown": [
              "(**Statement** (**Item** [Slipknot](http://www.wikidata.org/entity/Q254138)) (**ValueSnak** (**Property** [has part(s)](http://www.wikidata.org/entity/P527)) (**Item** [Jay Weinberg](http://www.wikidata.org/entity/Q6167323))))"
            ],
            "text/plain": [
              "Statement(Item(IRI('http://www.wikidata.org/entity/Q254138')), ValueSnak(Property(IRI('http://www.wikidata.org/entity/P527'), None), Item(IRI('http://www.wikidata.org/entity/Q6167323'))))"
            ]
          },
          "metadata": {},
          "output_type": "display_data"
        },
        {
          "data": {
            "text/markdown": [
              "(**Statement** (**Item** [Slipknot](http://www.wikidata.org/entity/Q254138)) (**ValueSnak** (**Property** [has part(s)](http://www.wikidata.org/entity/P527)) (**Item** [Alessandro Venturella](http://www.wikidata.org/entity/Q18218142))))"
            ],
            "text/plain": [
              "Statement(Item(IRI('http://www.wikidata.org/entity/Q254138')), ValueSnak(Property(IRI('http://www.wikidata.org/entity/P527'), None), Item(IRI('http://www.wikidata.org/entity/Q18218142'))))"
            ]
          },
          "metadata": {},
          "output_type": "display_data"
        },
        {
          "data": {
            "text/markdown": [
              "(**Statement** (**Item** [Slipknot](http://www.wikidata.org/entity/Q254138)) (**ValueSnak** (**Property** [has part(s)](http://www.wikidata.org/entity/P527)) (**Item** [Craig Jones](http://www.wikidata.org/entity/Q1634784))))"
            ],
            "text/plain": [
              "Statement(Item(IRI('http://www.wikidata.org/entity/Q254138')), ValueSnak(Property(IRI('http://www.wikidata.org/entity/P527'), None), Item(IRI('http://www.wikidata.org/entity/Q1634784'))))"
            ]
          },
          "metadata": {},
          "output_type": "display_data"
        }
      ],
      "source": [
        "from kif_lib import FilterPattern\n",
        "\n",
        "# define the pattern\n",
        "slipknot_band = wd.Q('Q254138', 'Slipknot')\n",
        "has_part = wd.P(527, 'has part(s)')\n",
        "person = wd.Q(5, 'person')\n",
        "#Pattern: Give me all X in which Slipknot has part X and X is a Person. That is, give me the members of Slipknot band\n",
        "pat = FilterPattern(\n",
        "    slipknot_band, has_part, wd.instance_of(person)\n",
        ")\n",
        "\n",
        "llm_store_bam = Store(\n",
        "  'llm',\n",
        "  llm_name='bam',\n",
        "  llm_endpoint=os.environ['LLM_API_ENDPOINT'],\n",
        "  llm_api_key=os.environ['LLM_API_KEY'],\n",
        "  llm_model_id='meta-llama/llama-3-8b-instruct',\n",
        "  create_item=False,\n",
        ")\n",
        "\n",
        "result = llm_store_bam.filter(pattern=pat)\n",
        "for stmt in result:\n",
        "    display(stmt)"
      ]
    },
    {
      "cell_type": "markdown",
      "metadata": {},
      "source": [
        "### Band members: But some members changed in time, I want up-to-date answers, so lets use some context"
      ]
    },
    {
      "cell_type": "code",
      "execution_count": 6,
      "metadata": {},
      "outputs": [
        {
          "data": {
            "text/markdown": [
              "(**Statement** (**Item** [Slipknot](http://www.wikidata.org/entity/Q254138)) (**ValueSnak** (**Property** [has part(s)](http://www.wikidata.org/entity/P527)) (**Item** [Chris Fehn](http://www.wikidata.org/entity/Q316136))))"
            ],
            "text/plain": [
              "Statement(Item(IRI('http://www.wikidata.org/entity/Q254138')), ValueSnak(Property(IRI('http://www.wikidata.org/entity/P527'), None), Item(IRI('http://www.wikidata.org/entity/Q316136'))))"
            ]
          },
          "metadata": {},
          "output_type": "display_data"
        },
        {
          "data": {
            "text/markdown": [
              "(**Statement** (**Item** [Slipknot](http://www.wikidata.org/entity/Q254138)) (**ValueSnak** (**Property** [has part(s)](http://www.wikidata.org/entity/P527)) (**Item** [Joey Jordison](http://www.wikidata.org/entity/Q295817))))"
            ],
            "text/plain": [
              "Statement(Item(IRI('http://www.wikidata.org/entity/Q254138')), ValueSnak(Property(IRI('http://www.wikidata.org/entity/P527'), None), Item(IRI('http://www.wikidata.org/entity/Q295817'))))"
            ]
          },
          "metadata": {},
          "output_type": "display_data"
        },
        {
          "data": {
            "text/markdown": [
              "(**Statement** (**Item** [Slipknot](http://www.wikidata.org/entity/Q254138)) (**ValueSnak** (**Property** [has part(s)](http://www.wikidata.org/entity/P527)) (**Item** [Sid Wilson](http://www.wikidata.org/entity/Q318514))))"
            ],
            "text/plain": [
              "Statement(Item(IRI('http://www.wikidata.org/entity/Q254138')), ValueSnak(Property(IRI('http://www.wikidata.org/entity/P527'), None), Item(IRI('http://www.wikidata.org/entity/Q318514'))))"
            ]
          },
          "metadata": {},
          "output_type": "display_data"
        },
        {
          "data": {
            "text/markdown": [
              "(**Statement** (**Item** [Slipknot](http://www.wikidata.org/entity/Q254138)) (**ValueSnak** (**Property** [has part(s)](http://www.wikidata.org/entity/P527)) (**Item** [Alessandro Venturella](http://www.wikidata.org/entity/Q18218142))))"
            ],
            "text/plain": [
              "Statement(Item(IRI('http://www.wikidata.org/entity/Q254138')), ValueSnak(Property(IRI('http://www.wikidata.org/entity/P527'), None), Item(IRI('http://www.wikidata.org/entity/Q18218142'))))"
            ]
          },
          "metadata": {},
          "output_type": "display_data"
        },
        {
          "data": {
            "text/markdown": [
              "(**Statement** (**Item** [Slipknot](http://www.wikidata.org/entity/Q254138)) (**ValueSnak** (**Property** [has part(s)](http://www.wikidata.org/entity/P527)) (**Item** [Anders Colsefni](http://www.wikidata.org/entity/Q1573408))))"
            ],
            "text/plain": [
              "Statement(Item(IRI('http://www.wikidata.org/entity/Q254138')), ValueSnak(Property(IRI('http://www.wikidata.org/entity/P527'), None), Item(IRI('http://www.wikidata.org/entity/Q1573408'))))"
            ]
          },
          "metadata": {},
          "output_type": "display_data"
        },
        {
          "data": {
            "text/markdown": [
              "(**Statement** (**Item** [Slipknot](http://www.wikidata.org/entity/Q254138)) (**ValueSnak** (**Property** [has part(s)](http://www.wikidata.org/entity/P527)) (**Item** [Jay Weinberg](http://www.wikidata.org/entity/Q6167323))))"
            ],
            "text/plain": [
              "Statement(Item(IRI('http://www.wikidata.org/entity/Q254138')), ValueSnak(Property(IRI('http://www.wikidata.org/entity/P527'), None), Item(IRI('http://www.wikidata.org/entity/Q6167323'))))"
            ]
          },
          "metadata": {},
          "output_type": "display_data"
        },
        {
          "data": {
            "text/markdown": [
              "(**Statement** (**Item** [Slipknot](http://www.wikidata.org/entity/Q254138)) (**ValueSnak** (**Property** [has part(s)](http://www.wikidata.org/entity/P527)) (**Item** [Corey Taylor](http://www.wikidata.org/entity/Q295120))))"
            ],
            "text/plain": [
              "Statement(Item(IRI('http://www.wikidata.org/entity/Q254138')), ValueSnak(Property(IRI('http://www.wikidata.org/entity/P527'), None), Item(IRI('http://www.wikidata.org/entity/Q295120'))))"
            ]
          },
          "metadata": {},
          "output_type": "display_data"
        },
        {
          "data": {
            "text/markdown": [
              "(**Statement** (**Item** [Slipknot](http://www.wikidata.org/entity/Q254138)) (**ValueSnak** (**Property** [has part(s)](http://www.wikidata.org/entity/P527)) (**Item** [Mick Thomson](http://www.wikidata.org/entity/Q315199))))"
            ],
            "text/plain": [
              "Statement(Item(IRI('http://www.wikidata.org/entity/Q254138')), ValueSnak(Property(IRI('http://www.wikidata.org/entity/P527'), None), Item(IRI('http://www.wikidata.org/entity/Q315199'))))"
            ]
          },
          "metadata": {},
          "output_type": "display_data"
        },
        {
          "data": {
            "text/markdown": [
              "(**Statement** (**Item** [Slipknot](http://www.wikidata.org/entity/Q254138)) (**ValueSnak** (**Property** [has part(s)](http://www.wikidata.org/entity/P527)) (**Item** [Donnie Steele](http://www.wikidata.org/entity/Q1133827))))"
            ],
            "text/plain": [
              "Statement(Item(IRI('http://www.wikidata.org/entity/Q254138')), ValueSnak(Property(IRI('http://www.wikidata.org/entity/P527'), None), Item(IRI('http://www.wikidata.org/entity/Q1133827'))))"
            ]
          },
          "metadata": {},
          "output_type": "display_data"
        },
        {
          "data": {
            "text/markdown": [
              "(**Statement** (**Item** [Slipknot](http://www.wikidata.org/entity/Q254138)) (**ValueSnak** (**Property** [has part(s)](http://www.wikidata.org/entity/P527)) (**Item** [Shawn Crahan](http://www.wikidata.org/entity/Q313875))))"
            ],
            "text/plain": [
              "Statement(Item(IRI('http://www.wikidata.org/entity/Q254138')), ValueSnak(Property(IRI('http://www.wikidata.org/entity/P527'), None), Item(IRI('http://www.wikidata.org/entity/Q313875'))))"
            ]
          },
          "metadata": {},
          "output_type": "display_data"
        },
        {
          "data": {
            "text/markdown": [
              "(**Statement** (**Item** [Slipknot](http://www.wikidata.org/entity/Q254138)) (**ValueSnak** (**Property** [has part(s)](http://www.wikidata.org/entity/P527)) (**Item** [Jim Root](http://www.wikidata.org/entity/Q313813))))"
            ],
            "text/plain": [
              "Statement(Item(IRI('http://www.wikidata.org/entity/Q254138')), ValueSnak(Property(IRI('http://www.wikidata.org/entity/P527'), None), Item(IRI('http://www.wikidata.org/entity/Q313813'))))"
            ]
          },
          "metadata": {},
          "output_type": "display_data"
        },
        {
          "data": {
            "text/markdown": [
              "(**Statement** (**Item** [Slipknot](http://www.wikidata.org/entity/Q254138)) (**ValueSnak** (**Property** [has part(s)](http://www.wikidata.org/entity/P527)) (**Item** [Michael Pfaff](http://www.wikidata.org/entity/Q113626037))))"
            ],
            "text/plain": [
              "Statement(Item(IRI('http://www.wikidata.org/entity/Q254138')), ValueSnak(Property(IRI('http://www.wikidata.org/entity/P527'), None), Item(IRI('http://www.wikidata.org/entity/Q113626037'))))"
            ]
          },
          "metadata": {},
          "output_type": "display_data"
        },
        {
          "data": {
            "text/markdown": [
              "(**Statement** (**Item** [Slipknot](http://www.wikidata.org/entity/Q254138)) (**ValueSnak** (**Property** [has part(s)](http://www.wikidata.org/entity/P527)) (**Item** [Paul Gray](http://www.wikidata.org/entity/Q314583))))"
            ],
            "text/plain": [
              "Statement(Item(IRI('http://www.wikidata.org/entity/Q254138')), ValueSnak(Property(IRI('http://www.wikidata.org/entity/P527'), None), Item(IRI('http://www.wikidata.org/entity/Q314583'))))"
            ]
          },
          "metadata": {},
          "output_type": "display_data"
        },
        {
          "data": {
            "text/markdown": [
              "(**Statement** (**Item** [Slipknot](http://www.wikidata.org/entity/Q254138)) (**ValueSnak** (**Property** [has part(s)](http://www.wikidata.org/entity/P527)) (**Item** [Eloy Casagrande](http://www.wikidata.org/entity/Q3051667))))"
            ],
            "text/plain": [
              "Statement(Item(IRI('http://www.wikidata.org/entity/Q254138')), ValueSnak(Property(IRI('http://www.wikidata.org/entity/P527'), None), Item(IRI('http://www.wikidata.org/entity/Q3051667'))))"
            ]
          },
          "metadata": {},
          "output_type": "display_data"
        },
        {
          "data": {
            "text/markdown": [
              "(**Statement** (**Item** [Slipknot](http://www.wikidata.org/entity/Q254138)) (**ValueSnak** (**Property** [has part(s)](http://www.wikidata.org/entity/P527)) (**Item** [Craig Jones](http://www.wikidata.org/entity/Q1634784))))"
            ],
            "text/plain": [
              "Statement(Item(IRI('http://www.wikidata.org/entity/Q254138')), ValueSnak(Property(IRI('http://www.wikidata.org/entity/P527'), None), Item(IRI('http://www.wikidata.org/entity/Q1634784'))))"
            ]
          },
          "metadata": {},
          "output_type": "display_data"
        }
      ],
      "source": [
        "from kif_lib import FilterPattern\n",
        "\n",
        "#Using context to improve llm response with up to date information\n",
        "\n",
        "context ='''\\\n",
        "Slipknot (/ˈslɪpnɒt/ SLIP-not) is an American heavy metal band formed in Des Moines, Iowa, in 1995 by percussionist Shawn Crahan, former vocalist Anders Colsefni and bassist Paul Gray.[1] After several lineup changes in its early years, the band settled on nine members for more than a decade: Crahan, Gray, Joey Jordison, Craig Jones, Mick Thomson, Corey Taylor, Sid Wilson, Chris Fehn, and Jim Root. Slipknot is well known for its attention-grabbing image, aggressive style of music, and energetic and chaotic live shows.[2][3]\n",
        "\n",
        "The band rapidly rose to fame following the release of their eponymous debut album in 1999. The 2001 follow-up album, Iowa, although darker in tone, made the band more popular. After a brief hiatus, Slipknot returned in 2004 with Vol. 3: (The Subliminal Verses), before going on another hiatus and returning in 2008 with its fourth album, All Hope Is Gone, which debuted at number one on the US Billboard 200 chart. After another long hiatus, Slipknot released its fifth studio album, .5: The Gray Chapter, in 2014. Their sixth studio album, We Are Not Your Kind, was released on August 9, 2019.[4] Their seventh studio album, The End, So Far, was released on September 30, 2022. The band has released two live albums titled 9.0: Live and Day of the Gusano: Live in Mexico, a compilation album titled Antennas to Hell, and five live DVDs. The band has sold 30 million records worldwide and over 12 million in their home country.[5][6]\n",
        "\n",
        "Bassist Gray died on May 24, 2010, and was replaced during 2011–2014 by Donnie Steele. Jordison was dismissed from the band on December 12, 2013. Steele left during the recording sessions for .5: The Gray Chapter. The band found replacements in Alessandro Venturella on bass and Jay Weinberg on drums. After the departure of Jordison, as of December 2013 the only founding member in the current lineup is percussionist Crahan. Fehn was also dismissed from the band in March 2019 prior to the writing of We Are Not Your Kind and was replaced by Michael Pfaff. The band parted ways with Jones and Weinberg in 2023, with the latter being replaced by Eloy Casagrande the following year.'''\n",
        "\n",
        "# define the pattern\n",
        "slipknot_band = wd.Q('Q254138', 'Slipknot')\n",
        "has_part = wd.P(527, 'has part(s)')\n",
        "instance_of = wd.P(31, 'is a')\n",
        "person = wd.Q(5, 'person')\n",
        "#Pattern: Give me all X in which Slipknot has part X and X is a Person. That is, give me the members of Slipknot band\n",
        "pat = FilterPattern(\n",
        "    slipknot_band, has_part, instance_of(person)\n",
        ")\n",
        "\n",
        "llm_store_bam = Store(\n",
        "  'llm',\n",
        "  llm_name='bam',\n",
        "  llm_endpoint=os.environ['LLM_API_ENDPOINT'],\n",
        "  llm_api_key=os.environ['LLM_API_KEY'],\n",
        "  llm_model_id='meta-llama/llama-3-8b-instruct',\n",
        "  create_item=False,\n",
        "  context=context\n",
        ")\n",
        "\n",
        "result = llm_store_bam.filter(pattern=pat)\n",
        "for stmt in result:\n",
        "    display(stmt)"
      ]
    }
  ],
  "metadata": {
    "kernelspec": {
      "display_name": ".venv",
      "language": "python",
      "name": "python3"
    },
    "language_info": {
      "codemirror_mode": {
        "name": "ipython",
        "version": 3
      },
      "file_extension": ".py",
      "mimetype": "text/x-python",
      "name": "python",
      "nbconvert_exporter": "python",
      "pygments_lexer": "ipython3",
      "version": "3.12.3"
    }
  },
  "nbformat": 4,
  "nbformat_minor": 2
}
