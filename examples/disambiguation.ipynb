{
  "cells": [
    {
      "cell_type": "code",
      "execution_count": 1,
      "metadata": {},
      "outputs": [],
      "source": [
        "from kif_lib import *\n",
        "from kif_lib.vocabulary import wd\n",
        "from kif_llm_store.store.llm.disambiguation import Disambiguator, BaselineDisambiguator, LLM_Disambiguator\n",
        "# import logging\n",
        "# logging.basicConfig(level=logging.DEBUG)"
      ]
    },
    {
      "cell_type": "code",
      "execution_count": 2,
      "metadata": {},
      "outputs": [],
      "source": [
        "labels = ['Argentina', 'Chile']"
      ]
    },
    {
      "cell_type": "code",
      "execution_count": 3,
      "metadata": {},
      "outputs": [
        {
          "data": {
            "text/markdown": [
              "(**Item** [Argentina](http://www.wikidata.org/entity/Q414))"
            ],
            "text/plain": [
              "Item(IRI('http://www.wikidata.org/entity/Q414'))"
            ]
          },
          "metadata": {},
          "output_type": "display_data"
        },
        {
          "data": {
            "text/markdown": [
              "(**Item** [Chile](http://www.wikidata.org/entity/Q298))"
            ],
            "text/plain": [
              "Item(IRI('http://www.wikidata.org/entity/Q298'))"
            ]
          },
          "metadata": {},
          "output_type": "display_data"
        }
      ],
      "source": [
        "disambiguator = Disambiguator(BaselineDisambiguator.disambiguator_name)\n",
        "\n",
        "for label, item in disambiguator.disambiguate_item(labels):\n",
        "  if item:\n",
        "      display(item)\n",
        "  else:\n",
        "      print(f\"Label: {label} WID: {None}\")"
      ]
    },
    {
      "cell_type": "code",
      "execution_count": 4,
      "metadata": {},
      "outputs": [
        {
          "data": {
            "text/markdown": [
              "(**Item** [Argentina](http://www.wikidata.org/entity/Q414))"
            ],
            "text/plain": [
              "Item(IRI('http://www.wikidata.org/entity/Q414'))"
            ]
          },
          "metadata": {},
          "output_type": "display_data"
        },
        {
          "data": {
            "text/markdown": [
              "(**Item** [Chile](http://www.wikidata.org/entity/Q298))"
            ],
            "text/plain": [
              "Item(IRI('http://www.wikidata.org/entity/Q298'))"
            ]
          },
          "metadata": {},
          "output_type": "display_data"
        }
      ],
      "source": [
        "disambiguator = Disambiguator(BaselineDisambiguator.disambiguator_name)\n",
        "\n",
        "async for label, item in disambiguator.adisambiguate_item(labels):\n",
        "  if item:\n",
        "      display(item)\n",
        "  else:\n",
        "      print(f\"Label: {label} WID: {None}\")"
      ]
    },
    {
      "cell_type": "code",
      "execution_count": 5,
      "metadata": {},
      "outputs": [],
      "source": [
        "import os\n",
        "import dotenv\n",
        "dotenv.load_dotenv()\n",
        "\n",
        "from langchain_ibm import ChatWatsonx\n",
        "\n",
        "model_id='meta-llama/llama-3-405b-instruct'\n",
        "base_url=os.environ['WATSONX_URL']\n",
        "api_key=os.environ['WATSONX_APIKEY']\n",
        "project_id=os.environ['WATSONX_PROJECT_ID']\n",
        "\n",
        "model = ChatWatsonx(model_id=model_id, url=base_url, apikey=api_key, project_id=project_id)"
      ]
    },
    {
      "cell_type": "code",
      "execution_count": 6,
      "metadata": {},
      "outputs": [
        {
          "data": {
            "text/markdown": [
              "(**Item** [Chile](http://www.wikidata.org/entity/Q298))"
            ],
            "text/plain": [
              "Item(IRI('http://www.wikidata.org/entity/Q298'))"
            ]
          },
          "metadata": {},
          "output_type": "display_data"
        },
        {
          "data": {
            "text/markdown": [
              "(**Item** [Argentina](http://www.wikidata.org/entity/Q414))"
            ],
            "text/plain": [
              "Item(IRI('http://www.wikidata.org/entity/Q414'))"
            ]
          },
          "metadata": {},
          "output_type": "display_data"
        }
      ],
      "source": [
        "disambiguator = Disambiguator(disambiguator_name=LLM_Disambiguator.disambiguator_name, model= model, sentence_term_template='Brazil shares border with {term}')\n",
        "\n",
        "async for label, item in disambiguator.adisambiguate_item(labels):\n",
        "  if item:\n",
        "      display(item)\n",
        "  else:\n",
        "      print(f\"Label: {label} WID: {None}\")"
      ]
    },
    {
      "cell_type": "code",
      "execution_count": 7,
      "metadata": {},
      "outputs": [],
      "source": [
        "import os\n",
        "import dotenv\n",
        "dotenv.load_dotenv()\n",
        "\n",
        "from langchain_openai import ChatOpenAI\n",
        "\n",
        "model = ChatOpenAI(model='gpt-4o', api_key=os.environ['GPT_API_KEY'])"
      ]
    },
    {
      "cell_type": "code",
      "execution_count": 8,
      "metadata": {},
      "outputs": [
        {
          "name": "stdout",
          "output_type": "stream",
          "text": [
            "Label: Chile WID: None\n"
          ]
        },
        {
          "data": {
            "text/markdown": [
              "(**Item** [Argentina](http://www.wikidata.org/entity/Q414))"
            ],
            "text/plain": [
              "Item(IRI('http://www.wikidata.org/entity/Q414'))"
            ]
          },
          "metadata": {},
          "output_type": "display_data"
        }
      ],
      "source": [
        "disambiguator = Disambiguator(disambiguator_name=LLM_Disambiguator.disambiguator_name, model= model, sentence_term_template='Brazil shares border with {term}')\n",
        "\n",
        "async for label, item in disambiguator.adisambiguate_item(labels):\n",
        "  if item:\n",
        "      display(item)\n",
        "  else:\n",
        "      print(f\"Label: {label} WID: {None}\")"
      ]
    }
  ],
  "metadata": {
    "kernelspec": {
      "display_name": ".venv",
      "language": "python",
      "name": "python3"
    },
    "language_info": {
      "codemirror_mode": {
        "name": "ipython",
        "version": 3
      },
      "file_extension": ".py",
      "mimetype": "text/x-python",
      "name": "python",
      "nbconvert_exporter": "python",
      "pygments_lexer": "ipython3",
      "version": "3.12.3"
    }
  },
  "nbformat": 4,
  "nbformat_minor": 2
}
